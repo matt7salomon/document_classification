{
 "cells": [
  {
   "cell_type": "markdown",
   "id": "73e2f261",
   "metadata": {},
   "source": [
    "# Notebook creates a model to be used for scoring later in a Fastapi app"
   ]
  },
  {
   "cell_type": "code",
   "execution_count": 30,
   "id": "c9dbbc23",
   "metadata": {},
   "outputs": [],
   "source": [
    "## getting a list of all files in the directory with their respective pathh\n",
    "import glob\n",
    "import pandas as pd\n",
    " \n",
    "def list_files_glob(pattern='./**/*', recursive=True):\n",
    "    lst = []\n",
    "    files = glob.glob(pattern, recursive=recursive)\n",
    "    for file in files:\n",
    "        lst.append(file)\n",
    "    return lst\n",
    "lst = list_files_glob()"
   ]
  },
  {
   "cell_type": "code",
   "execution_count": 32,
   "id": "8251fefa",
   "metadata": {},
   "outputs": [],
   "source": [
    "## my filepath cleaner. This doesnt read the files, only cleans the path and labels.\n",
    "def cleaner(lst):\n",
    "    label,filename,filepath = [],[],[] \n",
    "    for i in lst:\n",
    "        temp = i.split('/')\n",
    "        if len(temp)>2:\n",
    "            label.append(temp[1])\n",
    "            filename.append(temp[2])\n",
    "            filepath.append(i)\n",
    "    return label, filename,filepath\n",
    "labels, filenames, filepaths = cleaner(lst)"
   ]
  },
  {
   "cell_type": "code",
   "execution_count": 100,
   "id": "a5701692",
   "metadata": {},
   "outputs": [
    {
     "data": {
      "text/plain": [
       "['technologie_82.txt', 'technologie_96.txt', 'technologie_41.txt']"
      ]
     },
     "execution_count": 100,
     "metadata": {},
     "output_type": "execute_result"
    }
   ],
   "source": [
    "#just a test\n",
    "filenames[0:3]"
   ]
  },
  {
   "cell_type": "code",
   "execution_count": 101,
   "id": "f4b17544",
   "metadata": {},
   "outputs": [
    {
     "data": {
      "text/plain": [
       "['./technologie/technologie_82.txt',\n",
       " './technologie/technologie_96.txt',\n",
       " './technologie/technologie_41.txt']"
      ]
     },
     "execution_count": 101,
     "metadata": {},
     "output_type": "execute_result"
    }
   ],
   "source": [
    "#just a test\n",
    "filepaths[0:3]"
   ]
  },
  {
   "cell_type": "code",
   "execution_count": 102,
   "id": "d8578364",
   "metadata": {},
   "outputs": [
    {
     "data": {
      "text/plain": [
       "['technologie', 'technologie', 'technologie']"
      ]
     },
     "execution_count": 102,
     "metadata": {},
     "output_type": "execute_result"
    }
   ],
   "source": [
    "#just a test\n",
    "labels[0:3]"
   ]
  },
  {
   "cell_type": "code",
   "execution_count": 25,
   "id": "eb47f4fb",
   "metadata": {},
   "outputs": [],
   "source": [
    "## my file reader function\n",
    "def read_all_files(filepath):\n",
    "    texts = []\n",
    "    for file in filepath:\n",
    "        f = open(file, \"r\")\n",
    "        texts.append(f.read())\n",
    "    return texts\n",
    "\n",
    "texts = read_all_files(filepath)"
   ]
  },
  {
   "cell_type": "code",
   "execution_count": 99,
   "id": "8399b631",
   "metadata": {},
   "outputs": [
    {
     "name": "stdout",
     "output_type": "stream",
     "text": [
      "1006 1006 1006\n"
     ]
    }
   ],
   "source": [
    "# making sure they are the same length\n",
    "print (len(texts),len(filenames),len(filepath))"
   ]
  },
  {
   "cell_type": "code",
   "execution_count": 43,
   "id": "e14f2cee",
   "metadata": {},
   "outputs": [],
   "source": [
    "#placing everything in a pandas dataframe temporarily so i can clean it easier\n",
    "\n",
    "data = pd.DataFrame(data = {'filenames':filenames,'labels':labels, 'texts':texts} )"
   ]
  },
  {
   "cell_type": "code",
   "execution_count": 44,
   "id": "c162a220",
   "metadata": {},
   "outputs": [
    {
     "data": {
      "text/html": [
       "<div>\n",
       "<style scoped>\n",
       "    .dataframe tbody tr th:only-of-type {\n",
       "        vertical-align: middle;\n",
       "    }\n",
       "\n",
       "    .dataframe tbody tr th {\n",
       "        vertical-align: top;\n",
       "    }\n",
       "\n",
       "    .dataframe thead th {\n",
       "        text-align: right;\n",
       "    }\n",
       "</style>\n",
       "<table border=\"1\" class=\"dataframe\">\n",
       "  <thead>\n",
       "    <tr style=\"text-align: right;\">\n",
       "      <th></th>\n",
       "      <th>filenames</th>\n",
       "      <th>labels</th>\n",
       "      <th>texts</th>\n",
       "    </tr>\n",
       "  </thead>\n",
       "  <tbody>\n",
       "    <tr>\n",
       "      <th>0</th>\n",
       "      <td>technologie_82.txt</td>\n",
       "      <td>technologie</td>\n",
       "      <td>Games firms 'face tough future'\\n\\nUK video ga...</td>\n",
       "    </tr>\n",
       "    <tr>\n",
       "      <th>1</th>\n",
       "      <td>technologie_96.txt</td>\n",
       "      <td>technologie</td>\n",
       "      <td>California sets fines for spyware\\n\\nThe maker...</td>\n",
       "    </tr>\n",
       "    <tr>\n",
       "      <th>2</th>\n",
       "      <td>technologie_41.txt</td>\n",
       "      <td>technologie</td>\n",
       "      <td>T-Mobile bets on 'pocket office'\\n\\nT-Mobile h...</td>\n",
       "    </tr>\n",
       "    <tr>\n",
       "      <th>3</th>\n",
       "      <td>technologie_55.txt</td>\n",
       "      <td>technologie</td>\n",
       "      <td>OnePlus 8 full specs comparison chart: 8 vs. 8...</td>\n",
       "    </tr>\n",
       "    <tr>\n",
       "      <th>4</th>\n",
       "      <td>technologie_69.txt</td>\n",
       "      <td>technologie</td>\n",
       "      <td>'Friends fear' with lost mobiles\\n\\nPeople are...</td>\n",
       "    </tr>\n",
       "    <tr>\n",
       "      <th>...</th>\n",
       "      <td>...</td>\n",
       "      <td>...</td>\n",
       "      <td>...</td>\n",
       "    </tr>\n",
       "    <tr>\n",
       "      <th>1001</th>\n",
       "      <td>graphics_38.txt</td>\n",
       "      <td>graphics</td>\n",
       "      <td>In &lt;1pscti$aqe@travis.csd.harris.com&gt; srp@trav...</td>\n",
       "    </tr>\n",
       "    <tr>\n",
       "      <th>1002</th>\n",
       "      <td>graphics_10.txt</td>\n",
       "      <td>graphics</td>\n",
       "      <td>Hello everybody !\\nIf you are using PIXAR'S Re...</td>\n",
       "    </tr>\n",
       "    <tr>\n",
       "      <th>1003</th>\n",
       "      <td>graphics_100.txt</td>\n",
       "      <td>graphics</td>\n",
       "      <td>I need help in creating my 4x4 perspective mat...</td>\n",
       "    </tr>\n",
       "    <tr>\n",
       "      <th>1004</th>\n",
       "      <td>graphics_11.txt</td>\n",
       "      <td>graphics</td>\n",
       "      <td>In article &lt;1pp991$t63@cc.tut.fi&gt;, jk87377@leh...</td>\n",
       "    </tr>\n",
       "    <tr>\n",
       "      <th>1005</th>\n",
       "      <td>graphics_39.txt</td>\n",
       "      <td>graphics</td>\n",
       "      <td>andrey@cco.caltech.edu (Andre T. Yew) writes:\\...</td>\n",
       "    </tr>\n",
       "  </tbody>\n",
       "</table>\n",
       "<p>1006 rows × 3 columns</p>\n",
       "</div>"
      ],
      "text/plain": [
       "               filenames       labels  \\\n",
       "0     technologie_82.txt  technologie   \n",
       "1     technologie_96.txt  technologie   \n",
       "2     technologie_41.txt  technologie   \n",
       "3     technologie_55.txt  technologie   \n",
       "4     technologie_69.txt  technologie   \n",
       "...                  ...          ...   \n",
       "1001     graphics_38.txt     graphics   \n",
       "1002     graphics_10.txt     graphics   \n",
       "1003    graphics_100.txt     graphics   \n",
       "1004     graphics_11.txt     graphics   \n",
       "1005     graphics_39.txt     graphics   \n",
       "\n",
       "                                                  texts  \n",
       "0     Games firms 'face tough future'\\n\\nUK video ga...  \n",
       "1     California sets fines for spyware\\n\\nThe maker...  \n",
       "2     T-Mobile bets on 'pocket office'\\n\\nT-Mobile h...  \n",
       "3     OnePlus 8 full specs comparison chart: 8 vs. 8...  \n",
       "4     'Friends fear' with lost mobiles\\n\\nPeople are...  \n",
       "...                                                 ...  \n",
       "1001  In <1pscti$aqe@travis.csd.harris.com> srp@trav...  \n",
       "1002  Hello everybody !\\nIf you are using PIXAR'S Re...  \n",
       "1003  I need help in creating my 4x4 perspective mat...  \n",
       "1004  In article <1pp991$t63@cc.tut.fi>, jk87377@leh...  \n",
       "1005  andrey@cco.caltech.edu (Andre T. Yew) writes:\\...  \n",
       "\n",
       "[1006 rows x 3 columns]"
      ]
     },
     "execution_count": 44,
     "metadata": {},
     "output_type": "execute_result"
    }
   ],
   "source": [
    "data"
   ]
  },
  {
   "cell_type": "code",
   "execution_count": 61,
   "id": "9874f2b2",
   "metadata": {},
   "outputs": [],
   "source": [
    "## This is my main preprocessor. it cleans the textual input in the files and creates my x\n",
    "import pandas as pd\n",
    "from sklearn.model_selection import train_test_split\n",
    "from sklearn.feature_extraction.text import TfidfVectorizer\n",
    "from sklearn.preprocessing import LabelEncoder\n",
    "\n",
    "from string import punctuation\n",
    "def preprocess_text(text):\n",
    "    \"\"\" Apply any preprocessing methods\"\"\"\n",
    "    text = text.lower()\n",
    "    text = ''.join(c for c in text if c not in punctuation)\n",
    "    return text\n",
    "# Data preprocessing\n",
    "data['texts'] = data['texts'].apply(preprocess_text)\n",
    "\n",
    "# Split data into training and testing sets\n",
    "X = data['texts']\n",
    "y = data['labels']\n",
    "X_train, X_test, y_train, y_test = train_test_split(X, y, test_size=0.2, random_state=42)\n",
    "\n",
    "# Vectorize the text data using TF-IDF\n",
    "vectorizer = TfidfVectorizer(max_features=5000)\n",
    "X_train = vectorizer.fit_transform(X_train)\n",
    "X_test = vectorizer.transform(X_test)\n",
    "\n",
    "# Encode labels\n",
    "label_encoder = LabelEncoder()\n",
    "y_train = label_encoder.fit_transform(y_train)\n",
    "y_test = label_encoder.transform(y_test)"
   ]
  },
  {
   "cell_type": "code",
   "execution_count": 73,
   "id": "bfc03342",
   "metadata": {},
   "outputs": [
    {
     "data": {
      "text/plain": [
       "'business'"
      ]
     },
     "execution_count": 73,
     "metadata": {},
     "output_type": "execute_result"
    }
   ],
   "source": [
    "label_encoder.classes_[0]"
   ]
  },
  {
   "cell_type": "code",
   "execution_count": 48,
   "id": "de612560",
   "metadata": {},
   "outputs": [
    {
     "data": {
      "text/html": [
       "<style>#sk-container-id-1 {color: black;background-color: white;}#sk-container-id-1 pre{padding: 0;}#sk-container-id-1 div.sk-toggleable {background-color: white;}#sk-container-id-1 label.sk-toggleable__label {cursor: pointer;display: block;width: 100%;margin-bottom: 0;padding: 0.3em;box-sizing: border-box;text-align: center;}#sk-container-id-1 label.sk-toggleable__label-arrow:before {content: \"▸\";float: left;margin-right: 0.25em;color: #696969;}#sk-container-id-1 label.sk-toggleable__label-arrow:hover:before {color: black;}#sk-container-id-1 div.sk-estimator:hover label.sk-toggleable__label-arrow:before {color: black;}#sk-container-id-1 div.sk-toggleable__content {max-height: 0;max-width: 0;overflow: hidden;text-align: left;background-color: #f0f8ff;}#sk-container-id-1 div.sk-toggleable__content pre {margin: 0.2em;color: black;border-radius: 0.25em;background-color: #f0f8ff;}#sk-container-id-1 input.sk-toggleable__control:checked~div.sk-toggleable__content {max-height: 200px;max-width: 100%;overflow: auto;}#sk-container-id-1 input.sk-toggleable__control:checked~label.sk-toggleable__label-arrow:before {content: \"▾\";}#sk-container-id-1 div.sk-estimator input.sk-toggleable__control:checked~label.sk-toggleable__label {background-color: #d4ebff;}#sk-container-id-1 div.sk-label input.sk-toggleable__control:checked~label.sk-toggleable__label {background-color: #d4ebff;}#sk-container-id-1 input.sk-hidden--visually {border: 0;clip: rect(1px 1px 1px 1px);clip: rect(1px, 1px, 1px, 1px);height: 1px;margin: -1px;overflow: hidden;padding: 0;position: absolute;width: 1px;}#sk-container-id-1 div.sk-estimator {font-family: monospace;background-color: #f0f8ff;border: 1px dotted black;border-radius: 0.25em;box-sizing: border-box;margin-bottom: 0.5em;}#sk-container-id-1 div.sk-estimator:hover {background-color: #d4ebff;}#sk-container-id-1 div.sk-parallel-item::after {content: \"\";width: 100%;border-bottom: 1px solid gray;flex-grow: 1;}#sk-container-id-1 div.sk-label:hover label.sk-toggleable__label {background-color: #d4ebff;}#sk-container-id-1 div.sk-serial::before {content: \"\";position: absolute;border-left: 1px solid gray;box-sizing: border-box;top: 0;bottom: 0;left: 50%;z-index: 0;}#sk-container-id-1 div.sk-serial {display: flex;flex-direction: column;align-items: center;background-color: white;padding-right: 0.2em;padding-left: 0.2em;position: relative;}#sk-container-id-1 div.sk-item {position: relative;z-index: 1;}#sk-container-id-1 div.sk-parallel {display: flex;align-items: stretch;justify-content: center;background-color: white;position: relative;}#sk-container-id-1 div.sk-item::before, #sk-container-id-1 div.sk-parallel-item::before {content: \"\";position: absolute;border-left: 1px solid gray;box-sizing: border-box;top: 0;bottom: 0;left: 50%;z-index: -1;}#sk-container-id-1 div.sk-parallel-item {display: flex;flex-direction: column;z-index: 1;position: relative;background-color: white;}#sk-container-id-1 div.sk-parallel-item:first-child::after {align-self: flex-end;width: 50%;}#sk-container-id-1 div.sk-parallel-item:last-child::after {align-self: flex-start;width: 50%;}#sk-container-id-1 div.sk-parallel-item:only-child::after {width: 0;}#sk-container-id-1 div.sk-dashed-wrapped {border: 1px dashed gray;margin: 0 0.4em 0.5em 0.4em;box-sizing: border-box;padding-bottom: 0.4em;background-color: white;}#sk-container-id-1 div.sk-label label {font-family: monospace;font-weight: bold;display: inline-block;line-height: 1.2em;}#sk-container-id-1 div.sk-label-container {text-align: center;}#sk-container-id-1 div.sk-container {/* jupyter's `normalize.less` sets `[hidden] { display: none; }` but bootstrap.min.css set `[hidden] { display: none !important; }` so we also need the `!important` here to be able to override the default hidden behavior on the sphinx rendered scikit-learn.org. See: https://github.com/scikit-learn/scikit-learn/issues/21755 */display: inline-block !important;position: relative;}#sk-container-id-1 div.sk-text-repr-fallback {display: none;}</style><div id=\"sk-container-id-1\" class=\"sk-top-container\"><div class=\"sk-text-repr-fallback\"><pre>MultinomialNB()</pre><b>In a Jupyter environment, please rerun this cell to show the HTML representation or trust the notebook. <br />On GitHub, the HTML representation is unable to render, please try loading this page with nbviewer.org.</b></div><div class=\"sk-container\" hidden><div class=\"sk-item\"><div class=\"sk-estimator sk-toggleable\"><input class=\"sk-toggleable__control sk-hidden--visually\" id=\"sk-estimator-id-1\" type=\"checkbox\" checked><label for=\"sk-estimator-id-1\" class=\"sk-toggleable__label sk-toggleable__label-arrow\">MultinomialNB</label><div class=\"sk-toggleable__content\"><pre>MultinomialNB()</pre></div></div></div></div></div>"
      ],
      "text/plain": [
       "MultinomialNB()"
      ]
     },
     "execution_count": 48,
     "metadata": {},
     "output_type": "execute_result"
    }
   ],
   "source": [
    "from sklearn.naive_bayes import MultinomialNB\n",
    "\n",
    "# Example with Naive Bayes\n",
    "model = MultinomialNB()\n",
    "model.fit(X_train, y_train)"
   ]
  },
  {
   "cell_type": "code",
   "execution_count": 56,
   "id": "4b022750",
   "metadata": {},
   "outputs": [
    {
     "data": {
      "text/plain": [
       "array([ 3,  5,  5,  4,  9,  5,  5,  4,  9, 10,  5,  9,  2,  7,  7,  5,  5,\n",
       "        3,  0,  1,  3,  4,  0,  0,  4,  0,  9,  0,  9,  8,  2,  2, 10,  7,\n",
       "        2, 10,  8,  0,  0,  1,  7,  4,  9,  3,  9,  0,  9,  3,  8,  8,  5,\n",
       "        5, 10,  5,  4,  2,  9, 10, 10, 10,  8,  7, 10,  8,  7,  7,  7,  1,\n",
       "        7,  2,  1,  0,  7,  1,  5,  4,  7,  3, 10,  4,  7,  9, 10,  0, 10,\n",
       "        3,  5,  8,  0,  5,  4,  8,  3,  7,  2,  9,  1,  9, 10, 10,  3,  4,\n",
       "       10,  4,  4,  0,  2,  8,  3,  3,  2,  8,  5,  3,  9, 10,  2,  4,  9,\n",
       "        4,  1,  8,  7,  5,  7,  7,  1,  8,  7,  1,  2,  5,  8,  7,  3,  4,\n",
       "       10,  1,  4, 10, 10, 10,  0,  9,  3,  8,  2,  1,  8,  9,  9,  3,  8,\n",
       "        0,  4,  3,  3,  8,  0, 10,  9,  4,  4,  4,  5,  2,  4,  4,  5,  0,\n",
       "        9,  7,  7,  0,  1,  7,  2,  4, 10,  0,  4,  9,  7,  5,  7,  7,  2,\n",
       "        1,  9,  3,  0,  2,  4,  4,  9,  4,  0,  2,  9,  0,  9, 10])"
      ]
     },
     "execution_count": 56,
     "metadata": {},
     "output_type": "execute_result"
    }
   ],
   "source": [
    "## Saving all i need as pickle\n",
    "import pickle\n",
    "with open('model.pkl','wb') as f:\n",
    "    pickle.dump(model,f)\n",
    "\n",
    "with open('vectorizer.pkl','wb') as f:\n",
    "    pickle.dump(vectorizer,f)\n",
    "    \n",
    "with open('label_encoder.pkl','wb') as f:\n",
    "    pickle.dump(label_encoder.classes_,f)\n",
    "    "
   ]
  },
  {
   "cell_type": "code",
   "execution_count": 83,
   "id": "c216d3e6",
   "metadata": {},
   "outputs": [
    {
     "data": {
      "text/html": [
       "<div>\n",
       "<style scoped>\n",
       "    .dataframe tbody tr th:only-of-type {\n",
       "        vertical-align: middle;\n",
       "    }\n",
       "\n",
       "    .dataframe tbody tr th {\n",
       "        vertical-align: top;\n",
       "    }\n",
       "\n",
       "    .dataframe thead th {\n",
       "        text-align: right;\n",
       "    }\n",
       "</style>\n",
       "<table border=\"1\" class=\"dataframe\">\n",
       "  <thead>\n",
       "    <tr style=\"text-align: right;\">\n",
       "      <th></th>\n",
       "      <th>label</th>\n",
       "      <th>probability</th>\n",
       "    </tr>\n",
       "  </thead>\n",
       "  <tbody>\n",
       "    <tr>\n",
       "      <th>3</th>\n",
       "      <td>graphics</td>\n",
       "      <td>0.538040</td>\n",
       "    </tr>\n",
       "    <tr>\n",
       "      <th>10</th>\n",
       "      <td>technologie</td>\n",
       "      <td>0.102733</td>\n",
       "    </tr>\n",
       "    <tr>\n",
       "      <th>5</th>\n",
       "      <td>medical</td>\n",
       "      <td>0.100252</td>\n",
       "    </tr>\n",
       "    <tr>\n",
       "      <th>8</th>\n",
       "      <td>space</td>\n",
       "      <td>0.060171</td>\n",
       "    </tr>\n",
       "    <tr>\n",
       "      <th>2</th>\n",
       "      <td>food</td>\n",
       "      <td>0.042057</td>\n",
       "    </tr>\n",
       "    <tr>\n",
       "      <th>7</th>\n",
       "      <td>politics</td>\n",
       "      <td>0.040320</td>\n",
       "    </tr>\n",
       "    <tr>\n",
       "      <th>1</th>\n",
       "      <td>entertainment</td>\n",
       "      <td>0.035636</td>\n",
       "    </tr>\n",
       "    <tr>\n",
       "      <th>9</th>\n",
       "      <td>sport</td>\n",
       "      <td>0.027876</td>\n",
       "    </tr>\n",
       "    <tr>\n",
       "      <th>0</th>\n",
       "      <td>business</td>\n",
       "      <td>0.027727</td>\n",
       "    </tr>\n",
       "    <tr>\n",
       "      <th>4</th>\n",
       "      <td>historical</td>\n",
       "      <td>0.024522</td>\n",
       "    </tr>\n",
       "    <tr>\n",
       "      <th>6</th>\n",
       "      <td>other</td>\n",
       "      <td>0.000665</td>\n",
       "    </tr>\n",
       "  </tbody>\n",
       "</table>\n",
       "</div>"
      ],
      "text/plain": [
       "            label  probability\n",
       "3        graphics     0.538040\n",
       "10    technologie     0.102733\n",
       "5         medical     0.100252\n",
       "8           space     0.060171\n",
       "2            food     0.042057\n",
       "7        politics     0.040320\n",
       "1   entertainment     0.035636\n",
       "9           sport     0.027876\n",
       "0        business     0.027727\n",
       "4      historical     0.024522\n",
       "6           other     0.000665"
      ]
     },
     "execution_count": 83,
     "metadata": {},
     "output_type": "execute_result"
    }
   ],
   "source": [
    "## one sample example of the output probabilities for a test instance:\n",
    "\n",
    "pd.DataFrame({'label':label_encoder.classes_,'probability':model.predict_proba(X_test[0])[0]}).sort_values('probability',ascending =False)"
   ]
  },
  {
   "cell_type": "markdown",
   "id": "2a571df3",
   "metadata": {},
   "source": [
    "## All the metrics on test files"
   ]
  },
  {
   "cell_type": "code",
   "execution_count": 49,
   "id": "7dde50f4",
   "metadata": {},
   "outputs": [
    {
     "name": "stdout",
     "output_type": "stream",
     "text": [
      "Accuracy: 0.9356435643564357\n",
      "Classification Report:\n",
      "              precision    recall  f1-score   support\n",
      "\n",
      "           0       1.00      0.81      0.89        26\n",
      "           1       1.00      1.00      1.00        13\n",
      "           2       1.00      0.85      0.92        20\n",
      "           3       1.00      1.00      1.00        18\n",
      "           4       1.00      1.00      1.00        27\n",
      "           5       0.68      1.00      0.81        13\n",
      "           7       0.79      1.00      0.88        19\n",
      "           8       1.00      0.77      0.87        22\n",
      "           9       1.00      1.00      1.00        24\n",
      "          10       0.91      1.00      0.95        20\n",
      "\n",
      "    accuracy                           0.94       202\n",
      "   macro avg       0.94      0.94      0.93       202\n",
      "weighted avg       0.95      0.94      0.94       202\n",
      "\n"
     ]
    }
   ],
   "source": [
    "from sklearn.metrics import accuracy_score, classification_report\n",
    "\n",
    "# Make predictions\n",
    "y_pred = model.predict(X_test)\n",
    "\n",
    "# Evaluate the model\n",
    "accuracy = accuracy_score(y_test, y_pred)\n",
    "classification_rep = classification_report(y_test, y_pred)\n",
    "\n",
    "print(f\"Accuracy: {accuracy}\")\n",
    "print(f\"Classification Report:\\n{classification_rep}\")"
   ]
  }
 ],
 "metadata": {
  "kernelspec": {
   "display_name": "Python 3.10 (tensorflow)",
   "language": "python",
   "name": "tensorflow"
  },
  "language_info": {
   "codemirror_mode": {
    "name": "ipython",
    "version": 3
   },
   "file_extension": ".py",
   "mimetype": "text/x-python",
   "name": "python",
   "nbconvert_exporter": "python",
   "pygments_lexer": "ipython3",
   "version": "3.10.9"
  }
 },
 "nbformat": 4,
 "nbformat_minor": 5
}
